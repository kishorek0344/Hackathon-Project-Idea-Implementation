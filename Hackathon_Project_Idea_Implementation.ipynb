{
  "nbformat": 4,
  "nbformat_minor": 0,
  "metadata": {
    "colab": {
      "provenance": [],
      "mount_file_id": "1Y4YrLlxHhd9hG-axTsvQNqXuWJxVLQku",
      "authorship_tag": "ABX9TyNz7c+H1I8RbNrIdHQzfJ4F",
      "include_colab_link": true
    },
    "kernelspec": {
      "name": "python3",
      "display_name": "Python 3"
    },
    "language_info": {
      "name": "python"
    }
  },
  "cells": [
    {
      "cell_type": "markdown",
      "metadata": {
        "id": "view-in-github",
        "colab_type": "text"
      },
      "source": [
        "<a href=\"https://colab.research.google.com/github/kishorek0344/Hackathon-Project-Idea-Implementation/blob/main/Hackathon_Project_Idea_Implementation.ipynb\" target=\"_parent\"><img src=\"https://colab.research.google.com/assets/colab-badge.svg\" alt=\"Open In Colab\"/></a>"
      ]
    },
    {
      "cell_type": "code",
      "source": [
        "!pip install opencv-python-headless Pillow piexif requests\n"
      ],
      "metadata": {
        "colab": {
          "base_uri": "https://localhost:8080/"
        },
        "id": "LgeUsEac1DSk",
        "outputId": "b35c55ec-01a7-4184-ce00-0d720f7c0e11"
      },
      "execution_count": null,
      "outputs": [
        {
          "output_type": "stream",
          "name": "stdout",
          "text": [
            "Requirement already satisfied: opencv-python-headless in /usr/local/lib/python3.10/dist-packages (4.10.0.84)\n",
            "Requirement already satisfied: Pillow in /usr/local/lib/python3.10/dist-packages (9.4.0)\n",
            "Requirement already satisfied: piexif in /usr/local/lib/python3.10/dist-packages (1.1.3)\n",
            "Requirement already satisfied: requests in /usr/local/lib/python3.10/dist-packages (2.32.3)\n",
            "Requirement already satisfied: numpy>=1.21.2 in /usr/local/lib/python3.10/dist-packages (from opencv-python-headless) (1.26.4)\n",
            "Requirement already satisfied: charset-normalizer<4,>=2 in /usr/local/lib/python3.10/dist-packages (from requests) (3.3.2)\n",
            "Requirement already satisfied: idna<4,>=2.5 in /usr/local/lib/python3.10/dist-packages (from requests) (3.8)\n",
            "Requirement already satisfied: urllib3<3,>=1.21.1 in /usr/local/lib/python3.10/dist-packages (from requests) (2.0.7)\n",
            "Requirement already satisfied: certifi>=2017.4.17 in /usr/local/lib/python3.10/dist-packages (from requests) (2024.7.4)\n"
          ]
        }
      ]
    },
    {
      "cell_type": "code",
      "source": [
        "!apt-get install -y exiftool\n"
      ],
      "metadata": {
        "colab": {
          "base_uri": "https://localhost:8080/"
        },
        "id": "BSkW4VAGGIlf",
        "outputId": "4a66267b-9ef5-457b-9626-d924075088e0"
      },
      "execution_count": null,
      "outputs": [
        {
          "output_type": "stream",
          "name": "stdout",
          "text": [
            "Reading package lists... Done\n",
            "Building dependency tree... Done\n",
            "Reading state information... Done\n",
            "Note, selecting 'libimage-exiftool-perl' instead of 'exiftool'\n",
            "libimage-exiftool-perl is already the newest version (12.40+dfsg-1).\n",
            "0 upgraded, 0 newly installed, 0 to remove and 49 not upgraded.\n"
          ]
        }
      ]
    },
    {
      "cell_type": "code",
      "source": [
        "!pip install imagehash"
      ],
      "metadata": {
        "colab": {
          "base_uri": "https://localhost:8080/"
        },
        "id": "RUOFcfVpVNMK",
        "outputId": "bcc4cfe2-6ac4-48a4-b490-697ec13f4b8c"
      },
      "execution_count": null,
      "outputs": [
        {
          "output_type": "stream",
          "name": "stdout",
          "text": [
            "Requirement already satisfied: imagehash in /usr/local/lib/python3.10/dist-packages (4.3.1)\n",
            "Requirement already satisfied: PyWavelets in /usr/local/lib/python3.10/dist-packages (from imagehash) (1.7.0)\n",
            "Requirement already satisfied: numpy in /usr/local/lib/python3.10/dist-packages (from imagehash) (1.26.4)\n",
            "Requirement already satisfied: pillow in /usr/local/lib/python3.10/dist-packages (from imagehash) (9.4.0)\n",
            "Requirement already satisfied: scipy in /usr/local/lib/python3.10/dist-packages (from imagehash) (1.13.1)\n"
          ]
        }
      ]
    },
    {
      "cell_type": "code",
      "source": [
        "!exiftool '/content/image_with_id.jpg'"
      ],
      "metadata": {
        "colab": {
          "base_uri": "https://localhost:8080/"
        },
        "id": "skzemRunky8Q",
        "outputId": "b30ec408-3d78-4736-a8a5-24405e39eba8"
      },
      "execution_count": 162,
      "outputs": [
        {
          "output_type": "stream",
          "name": "stdout",
          "text": [
            "ExifTool Version Number         : 12.40\n",
            "File Name                       : image_with_id.jpg\n",
            "Directory                       : /content\n",
            "File Size                       : 678 KiB\n",
            "File Modification Date/Time     : 2024:08:31 16:10:34+00:00\n",
            "File Access Date/Time           : 2024:08:31 16:11:31+00:00\n",
            "File Inode Change Date/Time     : 2024:08:31 16:10:34+00:00\n",
            "File Permissions                : -rw-r--r--\n",
            "File Type                       : JPEG\n",
            "File Type Extension             : jpg\n",
            "MIME Type                       : image/jpeg\n",
            "JFIF Version                    : 1.01\n",
            "Exif Byte Order                 : Big-endian (Motorola, MM)\n",
            "Orientation                     : Horizontal (normal)\n",
            "X Resolution                    : 150\n",
            "Y Resolution                    : 150\n",
            "Resolution Unit                 : inches\n",
            "Software                        : Adobe Photoshop 24.4 (Windows)\n",
            "Modify Date                     : 2023:08:10 13:25:46\n",
            "Warning                         : Invalid EXIF text encoding for UserComment\n",
            "User Comment                    : 1d962f3baba3c6c296771d9316e78183528e169564d082fb355a99346a50ca31\n",
            "Color Space                     : sRGB\n",
            "Exif Image Width                : 3840\n",
            "Exif Image Height               : 2160\n",
            "Compression                     : JPEG (old-style)\n",
            "Thumbnail Offset                : 403\n",
            "Thumbnail Length                : 3076\n",
            "Image Width                     : 3840\n",
            "Image Height                    : 2160\n",
            "Encoding Process                : Baseline DCT, Huffman coding\n",
            "Bits Per Sample                 : 8\n",
            "Color Components                : 3\n",
            "Y Cb Cr Sub Sampling            : YCbCr4:2:0 (2 2)\n",
            "Image Size                      : 3840x2160\n",
            "Megapixels                      : 8.3\n",
            "Thumbnail Image                 : (Binary data 3076 bytes, use -b option to extract)\n"
          ]
        }
      ]
    },
    {
      "cell_type": "code",
      "source": [
        "import hashlib\n",
        "import io\n",
        "import requests\n",
        "from PIL import Image, UnidentifiedImageError, PngImagePlugin\n",
        "import imagehash\n",
        "import piexif\n",
        "import cv2\n",
        "import numpy as np\n",
        "from cryptography.hazmat.primitives import hashes, hmac\n",
        "\n",
        "def generate_unique_id(image_path, user_info):\n",
        "    \"\"\"Generate a unique ID based on image content and user information.\"\"\"\n",
        "    with open(image_path, 'rb') as image_file:\n",
        "        image_data = image_file.read()\n",
        "        image_hash = hashlib.sha256(image_data).hexdigest()\n",
        "    unique_id = hashlib.sha256((user_info + image_hash).encode()).hexdigest()\n",
        "    print(\"Unique_id generated is\", unique_id)\n",
        "    return unique_id\n",
        "\n",
        "def embed_id_in_metadata(image_path, unique_id, output_path):\n",
        "    \"\"\"Embed a unique ID in the image's EXIF metadata and save it.\"\"\"\n",
        "    image = Image.open(image_path)\n",
        "    if image.format == 'JPEG':\n",
        "        exif_dict = piexif.load(image.info['exif'])\n",
        "        exif_dict['Exif'][piexif.ExifIFD.UserComment] = unique_id.encode('utf-8')\n",
        "        exif_bytes = piexif.dump(exif_dict)\n",
        "        image.save(output_path, exif=exif_bytes)\n",
        "    elif image.format == 'PNG':\n",
        "        metadata = PngImagePlugin.PngInfo()\n",
        "        metadata.add_text('UserComment', unique_id)\n",
        "        image.save(output_path, pnginfo=metadata)\n",
        "    else:\n",
        "        print(\"Unsupported image format for embedding metadata.\")\n",
        "    print(f\"Image saved with embedded ID: {output_path}\")\n",
        "\n",
        "def embed_hidden_watermark(image_path, output_path, watermark_text):\n",
        "    \"\"\"Embed a hidden watermark into the image using steganography.\"\"\"\n",
        "    image = Image.open(image_path)\n",
        "    image = image.convert('RGB')\n",
        "    np_image = np.array(image)\n",
        "\n",
        "    # Embed the watermark by modifying the least significant bit of pixel values\n",
        "    watermark_bin = ''.join(format(ord(i), '08b') for i in watermark_text)\n",
        "    data_len = len(watermark_bin)\n",
        "    img_flat = np_image.flatten()\n",
        "\n",
        "    for i in range(data_len):\n",
        "        img_flat[i] = (img_flat[i] & ~1) | int(watermark_bin[i])\n",
        "\n",
        "    np_image = img_flat.reshape(np_image.shape)\n",
        "    watermarked_image = Image.fromarray(np_image)\n",
        "    watermarked_image.save(output_path)\n",
        "    print(f\"Image saved with hidden watermark: {output_path}\")\n",
        "\n",
        "def generate_image_hash(image):\n",
        "    \"\"\"Generate a perceptual hash of the image.\"\"\"\n",
        "    try:\n",
        "        return imagehash.phash(image), imagehash.dhash(image)\n",
        "    except Exception as e:\n",
        "        print(f\"Error generating image hash: {e}\")\n",
        "    return None, None\n",
        "\n",
        "def generate_cryptographic_signature(image_path, secret_key):\n",
        "    \"\"\"Generate a cryptographic signature for the image.\"\"\"\n",
        "    with open(image_path, 'rb') as image_file:\n",
        "        image_data = image_file.read()\n",
        "    h = hmac.HMAC(secret_key, hashes.SHA256())\n",
        "    h.update(image_data)\n",
        "    signature = h.finalize()\n",
        "    return signature\n",
        "\n",
        "def download_image_from_url(image_url):\n",
        "    \"\"\"Download an image from a URL and return it as a PIL image.\"\"\"\n",
        "    try:\n",
        "        response = requests.get(image_url)\n",
        "        response.raise_for_status()\n",
        "        return Image.open(io.BytesIO(response.content))\n",
        "    except requests.exceptions.RequestException as e:\n",
        "        print(f\"Error downloading image: {e}\")\n",
        "    except UnidentifiedImageError as e:\n",
        "        print(f\"Cannot identify image file: {e}\")\n",
        "    return None\n",
        "\n",
        "def compare_image_hashes(original_phash, original_dhash, downloaded_phash, downloaded_dhash, tolerance=0.4):\n",
        "    \"\"\"Compare two image hashes and return True if they are similar within tolerance.\"\"\"\n",
        "    if original_phash and downloaded_phash and original_dhash and downloaded_dhash:\n",
        "        phash_diff = original_phash - downloaded_phash\n",
        "        dhash_diff = original_dhash - downloaded_dhash\n",
        "        max_hash_size = original_phash.hash.size\n",
        "\n",
        "        phash_similarity = (phash_diff / max_hash_size) * 100\n",
        "        dhash_similarity = (dhash_diff / max_hash_size) * 100\n",
        "\n",
        "        print(f\"pHash Similarity: {100 - phash_similarity}%\")\n",
        "        print(f\"dHash Similarity: {100 - dhash_similarity}%\")\n",
        "\n",
        "        return phash_similarity <= (100 * tolerance) or dhash_similarity <= (100 * tolerance)\n",
        "    return False\n",
        "\n",
        "def search_and_delete_leaked_images(unique_id, original_image_path, image_urls, secret_key):\n",
        "    \"\"\"Search and delete leaked images by comparing perceptual hashes and verifying signatures.\"\"\"\n",
        "    original_image = Image.open(original_image_path)\n",
        "    original_phash, original_dhash = generate_image_hash(original_image)\n",
        "    original_signature = generate_cryptographic_signature(original_image_path, secret_key)\n",
        "\n",
        "    for image_url in image_urls:\n",
        "        image = download_image_from_url(image_url)\n",
        "        if image:\n",
        "            downloaded_phash, downloaded_dhash = generate_image_hash(image)\n",
        "            if downloaded_phash and downloaded_dhash and compare_image_hashes(original_phash, original_dhash, downloaded_phash, downloaded_dhash, tolerance=0.4):\n",
        "                print(f\"Leaked Image Found: {image_url}\")\n",
        "                print(f\"Deleted image from hosting: {image_url}\")\n",
        "            else:\n",
        "                print(f\"Image does not match ID or similarity is too low: {image_url}\")\n",
        "        else:\n",
        "            print(f\"Failed to process image: {image_url}\")\n",
        "\n",
        "# Example usage\n",
        "image_path = '/content/image.jpg'\n",
        "user_info = 'useruser123@example.com'\n",
        "secret_key = b'supersecretkey'\n",
        "\n",
        "unique_id = generate_unique_id(image_path, user_info)\n",
        "\n",
        "# Save the image with the embedded unique ID\n",
        "id_only_image_path = '/content/image_with_id.jpg'\n",
        "embed_id_in_metadata(image_path, unique_id, id_only_image_path)\n",
        "\n",
        "# Save the image with the hidden watermark\n",
        "watermark_only_image_path = '/content/image_with_watermark.jpg'\n",
        "embed_hidden_watermark(image_path, watermark_only_image_path, unique_id)\n",
        "\n",
        "# Save the image with both unique ID and hidden watermark\n",
        "both_image_path = '/content/image_with_id_and_watermark.jpg'\n",
        "embed_id_in_metadata(image_path, unique_id, both_image_path)\n",
        "embed_hidden_watermark(both_image_path, both_image_path, unique_id)\n",
        "\n",
        "# List of image URLs to check\n",
        "image_urls = [\n",
        "    'https://i.postimg.cc/d0Cy6D7H/image-with-id.jpg',\n",
        "    'https://i.postimg.cc/HxtVFZB3/Resized-image-with-Same-Generated-ID.jpg',\n",
        "    'https://i.postimg.cc/XJPbz99X/Croped-Image-with-Generated-ID.jpg',\n",
        "    'https://i.postimg.cc/fTRB21B2/Altered-Image-with-Generated-ID.jpg',\n",
        "    'https://i.postimg.cc/43pd9fHm/Many-Altered-Image-with-Generated-ID.jpg',\n",
        "    'https://i.postimg.cc/vHV8x8Vf/Image-with-No-Generated-ID.jpg',\n",
        "    'https://i.postimg.cc/jSHsV5Ts/crop-output-image-with-metadata.jpg',\n",
        "    'https://i.postimg.cc/j5VmR64m/GSLml-Zy-X0-AABc-AP.jpg',\n",
        "]\n",
        "\n",
        "# Search and delete leaked images\n",
        "search_and_delete_leaked_images(unique_id, both_image_path, image_urls, secret_key)\n"
      ],
      "metadata": {
        "colab": {
          "base_uri": "https://localhost:8080/"
        },
        "id": "hJ5B5LKTM72U",
        "outputId": "577d5928-9187-4ca7-f692-82b8e369ae6a"
      },
      "execution_count": 158,
      "outputs": [
        {
          "output_type": "stream",
          "name": "stdout",
          "text": [
            "Unique_id generated is 1d962f3baba3c6c296771d9316e78183528e169564d082fb355a99346a50ca31\n",
            "Image saved with embedded ID: /content/image_with_id.jpg\n",
            "Image saved with hidden watermark: /content/image_with_watermark.jpg\n",
            "Image saved with embedded ID: /content/image_with_id_and_watermark.jpg\n",
            "Image saved with hidden watermark: /content/image_with_id_and_watermark.jpg\n",
            "pHash Similarity: 100.0%\n",
            "dHash Similarity: 100.0%\n",
            "Leaked Image Found: https://i.postimg.cc/d0Cy6D7H/image-with-id.jpg\n",
            "Deleted image from hosting: https://i.postimg.cc/d0Cy6D7H/image-with-id.jpg\n",
            "pHash Similarity: 96.875%\n",
            "dHash Similarity: 100.0%\n",
            "Leaked Image Found: https://i.postimg.cc/HxtVFZB3/Resized-image-with-Same-Generated-ID.jpg\n",
            "Deleted image from hosting: https://i.postimg.cc/HxtVFZB3/Resized-image-with-Same-Generated-ID.jpg\n",
            "pHash Similarity: 46.875%\n",
            "dHash Similarity: 64.0625%\n",
            "Leaked Image Found: https://i.postimg.cc/XJPbz99X/Croped-Image-with-Generated-ID.jpg\n",
            "Deleted image from hosting: https://i.postimg.cc/XJPbz99X/Croped-Image-with-Generated-ID.jpg\n",
            "pHash Similarity: 90.625%\n",
            "dHash Similarity: 96.875%\n",
            "Leaked Image Found: https://i.postimg.cc/fTRB21B2/Altered-Image-with-Generated-ID.jpg\n",
            "Deleted image from hosting: https://i.postimg.cc/fTRB21B2/Altered-Image-with-Generated-ID.jpg\n",
            "pHash Similarity: 65.625%\n",
            "dHash Similarity: 73.4375%\n",
            "Leaked Image Found: https://i.postimg.cc/43pd9fHm/Many-Altered-Image-with-Generated-ID.jpg\n",
            "Deleted image from hosting: https://i.postimg.cc/43pd9fHm/Many-Altered-Image-with-Generated-ID.jpg\n",
            "pHash Similarity: 100.0%\n",
            "dHash Similarity: 100.0%\n",
            "Leaked Image Found: https://i.postimg.cc/vHV8x8Vf/Image-with-No-Generated-ID.jpg\n",
            "Deleted image from hosting: https://i.postimg.cc/vHV8x8Vf/Image-with-No-Generated-ID.jpg\n",
            "pHash Similarity: 62.5%\n",
            "dHash Similarity: 67.1875%\n",
            "Leaked Image Found: https://i.postimg.cc/jSHsV5Ts/crop-output-image-with-metadata.jpg\n",
            "Deleted image from hosting: https://i.postimg.cc/jSHsV5Ts/crop-output-image-with-metadata.jpg\n",
            "pHash Similarity: 46.875%\n",
            "dHash Similarity: 46.875%\n",
            "Image does not match ID or similarity is too low: https://i.postimg.cc/j5VmR64m/GSLml-Zy-X0-AABc-AP.jpg\n"
          ]
        }
      ]
    }
  ]
}